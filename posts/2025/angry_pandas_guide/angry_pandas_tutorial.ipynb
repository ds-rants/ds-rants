{
 "cells": [
  {
   "cell_type": "markdown",
   "metadata": {},
   "source": [
    "---\n",
    "title: \"The Angry Guide To Pandas Code, Dummy Edition\"\n",
    "author: \"DS Rants\"\n",
    "date: \"2025-04-26\"\n",
    "categories: [data science, pandas code, non-pessimization]\n",
    "image: cover-angry-pandas-guide.png\n",
    "draft: true\n",
    "draft-mode: unlinked\n",
    "---\n"
   ]
  },
  {
   "cell_type": "markdown",
   "metadata": {},
   "source": [
    "Alright! You apparently stumbled by accident on this page after wrongly clicking on the banner: \"There are single people in your area\".\n",
    "Well now, you have at least on chance to do something productive today!\n",
    "So put on your best nerd reading glasses and listen.\n",
    "\n",
    "Today, you're going to learn how to write pandas code that does not look like the experimentation of a toddler smashing on the keyboard because it prints stuff on the screen.\n",
    "You're going to move one inch closer to the golden age of civilization.\n",
    "So buckle up, stop thinking for your own good and read carefully!\n",
    "\n",
    "Actually, before we even start with code... [NO FUCKING FOR LOOPS!](../../posts/2025/2025_04_13_your_pandas_code_is_bad/index.qmd)\n",
    "\n",
    "> - \"But...\"\n",
    "> - \"Did I stutter? NO FUCKING FOR LOOPS\"\n",
    "> - \"But what if ...\"\n",
    "> - \"You inept little twerp\n",
    "\n",
    "Anyway, we will start with the usual suspects, and a stupid ass dataframe:\n"
   ]
  },
  {
   "cell_type": "code",
   "execution_count": 2,
   "metadata": {},
   "outputs": [],
   "source": [
    "import pandas as pd\n",
    "import numpy as np\n",
    "\n",
    "original_df = pd.DataFrame(\n",
    "    [\n",
    "        [1, 1, 1, \"2024_01\"],\n",
    "        [1, 2, 3, \"2024_02\"],\n",
    "        [5, 0, 1, \"2024_03\"],\n",
    "    ],\n",
    "    columns=[0, 1, 3, \"year_week\"],\n",
    ")"
   ]
  },
  {
   "cell_type": "markdown",
   "metadata": {},
   "source": [
    "Looks stupid enough? Good, I don't want you distracted one bit by any type of complexity.\n",
    "Imagine you have been working on it.\n",
    "What you're probably seeing in your average notebook probably looks a lot like that:\n"
   ]
  },
  {
   "cell_type": "markdown",
   "metadata": {},
   "source": [
    "## The Original Sin Of Pandas\n"
   ]
  },
  {
   "cell_type": "markdown",
   "metadata": {},
   "source": [
    "::: {.panel-tabset}\n",
    "\n",
    "### Typical Bullshit One\n"
   ]
  },
  {
   "cell_type": "code",
   "execution_count": 3,
   "metadata": {},
   "outputs": [],
   "source": [
    "# fmt: off\n",
    "p_chart_weekly_df = original_df.reset_index()\n",
    "p_chart_weekly_df.rename(columns={0 : 'category_A', 1 : 'category_B', 3 : 'category_C'}, inplace=True)\n",
    "p_chart_weekly_df.year_week = p_chart_weekly_df.year_week.astype(str)\n",
    "p_chart_weekly_df['total_produced'] = p_chart_weekly_df.category_A + p_chart_weekly_df.category_B + p_chart_weekly_df.category_C # total number of produced goods\n",
    "p_chart_weekly_df['total_tested'] = p_chart_weekly_df.category_B + p_chart_weekly_df.category_C # total number of tested goods\n",
    "p_chart_weekly_df['prop_tested'] = np.round(p_chart_weekly_df.total_tested / p_chart_weekly_df.total_produced *100,2) # proportion of goods tested\n",
    "p_chart_weekly_df['prop_category_B'] = np.round(p_chart_weekly_df.category_B / p_chart_weekly_df.total_produced *100,2) # proportion of category_B\n",
    "p_chart_weekly_df['prop_category_C'] = np.round(p_chart_weekly_df.category_C / p_chart_weekly_df.total_produced *100,2) # proportion of category_C\n",
    "p_chart_weekly_df = p_chart_weekly_df[p_chart_weekly_df[\"total_tested\"] < 5]\n",
    "# fmt: on"
   ]
  },
  {
   "cell_type": "markdown",
   "metadata": {},
   "source": [
    "### Typical Bullshit Two\n"
   ]
  },
  {
   "cell_type": "code",
   "execution_count": null,
   "metadata": {},
   "outputs": [],
   "source": [
    "# fmt: off\n",
    "df = original_df.reset_index()\n",
    "df.rename(columns={0 : 'category_A', 1 : 'category_B', 3 : 'category_C'}, inplace=True)\n",
    "df.year_week = df.year_week.astype(str)\n",
    "df['total_produced'] = df.category_A + df.category_B + df.category_C # total number of produced goods\n",
    "df['total_tested'] = df.category_B + df.category_C # total number of tested goods\n",
    "df['prop_tested'] = np.round(df.total_tested / df.total_produced *100,2) # proportion of goods tested\n",
    "df['prop_category_B'] = np.round(df.category_B / df.total_produced *100,2) # proportion of category_B\n",
    "df['prop_category_C'] = np.round(df.category_C / df.total_produced *100,2) # proportion of category_C\n",
    "df = df[df[\"total_tested\"] < 5]\n",
    "p_chart_weekly_df = df\n",
    "# fmt: on\n"
   ]
  },
  {
   "cell_type": "markdown",
   "metadata": {},
   "source": [
    ":::\n"
   ]
  },
  {
   "cell_type": "markdown",
   "metadata": {},
   "source": [
    "Looks familiar?\n",
    "\n",
    "Well, I am sorry to tell you that this thing up there is pure garbage! Actually, I am not even sorry.\n",
    "This stuff it has been vomited by someone without any consideration for their fellow humans.\n",
    "You don't believe me?\n",
    "\n",
    "Did you by any chance happen to notice the little cabalistic signs around the code: `fmt: off` / `fmt: on`?\n",
    "Do you now what it means?\n",
    "It means I have to purposefully block my formatter from touching this pile of intellectual dump, otherwise it becomes so unreadable that its ungodly nature becomes clear to all.\n",
    "Let me prove it to you:\n"
   ]
  },
  {
   "cell_type": "code",
   "execution_count": 10,
   "metadata": {},
   "outputs": [],
   "source": [
    "p_chart_weekly_df = original_df.reset_index()\n",
    "p_chart_weekly_df.rename(\n",
    "    columns={0: \"category_A\", 1: \"category_B\", 3: \"category_C\"}, inplace=True\n",
    ")\n",
    "p_chart_weekly_df.year_week = p_chart_weekly_df.year_week.astype(str)\n",
    "p_chart_weekly_df[\"total_produced\"] = (\n",
    "    p_chart_weekly_df.category_A\n",
    "    + p_chart_weekly_df.category_B\n",
    "    + p_chart_weekly_df.category_C\n",
    ")  # total number of produced goods is the lot\n",
    "p_chart_weekly_df[\"total_tested\"] = (\n",
    "    p_chart_weekly_df.category_B + p_chart_weekly_df.category_C\n",
    ")  # total number of tested goods is the lot\n",
    "p_chart_weekly_df[\"prop_tested\"] = np.round(\n",
    "    p_chart_weekly_df.total_tested / p_chart_weekly_df.total_produced * 100, 2\n",
    ")  # proportion of goods tested on the lot\n",
    "p_chart_weekly_df[\"prop_category_B\"] = np.round(\n",
    "    p_chart_weekly_df.category_B / p_chart_weekly_df.total_produced * 100, 2\n",
    ")  # proportion of category_B in the lot\n",
    "p_chart_weekly_df[\"prop_category_C\"] = np.round(\n",
    "    p_chart_weekly_df.category_C / p_chart_weekly_df.total_produced * 100, 2\n",
    ")  # proportion of category_C in the lot\n",
    "p_chart_weekly_df = p_chart_weekly_df[p_chart_weekly_df[\"total_tested\"] < 5]\n"
   ]
  },
  {
   "cell_type": "markdown",
   "metadata": {},
   "source": [
    "Understood, now that the pretended pseudo-manual structure is gone, there is nothing left but chaos?\n",
    "So do yourself a favor, just install `ruff` or `black`, because if you write something, format it and it looks worse, there is a 99.999% chance that what you wrote should be covered with Napalm and set on fire.\n",
    "\n",
    "Now that we agree on the horror it actually is, it is time to fix it.\n",
    "\n",
    "First you're going to remove ALL `inplace=True` from your whole code base! Did I stutter?\n",
    "I said all of them!\n",
    "[This wretched abomination]() should have never seen the sunlight.\n",
    "Unfortunately, `pandas` is more than 20 years old, and mistakes were made during the young years.\n",
    "Sadly enough, this mistake still haunts us to this day because some people are clearly not able do perform a simple google search.\n",
    "We are still stuck with this, because removing it would break half of the world code bases, because of people like you who think they are being clever, when if fact they're just enshitting the code.\n",
    "\n",
    "No `inplace=True` EVER! I mean it!\n",
    "\n",
    "So, the first line becomes:\n"
   ]
  },
  {
   "cell_type": "code",
   "execution_count": 5,
   "metadata": {
    "vscode": {
     "languageId": "javascript"
    }
   },
   "outputs": [],
   "source": [
    "p_chart_weekly_df = original_df.reset_index().rename(\n",
    "    columns={0: \"category_A\", 1: \"category_B\", 3: \"category_C\"}\n",
    ")"
   ]
  },
  {
   "cell_type": "markdown",
   "metadata": {},
   "source": [
    "See? It's not beautiful yet but it is certainly a step in the good direction?\n",
    "\n",
    "The next thing you will do is transform the `astype` call to use it at the dataframe level, in the shape: `astype({\"column\": <type>})`, because we are not beasts. Not so goddamn fast you inconsequential stardust residue!\n",
    "I am sure you were about to type something ludicrous like:\n",
    "\n",
    "```python\n",
    "p_chart_weekly = p_chart_weekly.astype({\"year_week\": str})\n",
    "```\n",
    "\n",
    "You, you're trying to make me mad, aren't you? Put that shit with the previous calls, and lose the name of the dataframe you don't need it.\n",
    "\n",
    "```python\n",
    "p_chart_weekly_df = original_df.reset_index().rename(\n",
    "    columns={0: \"category_A\", 1: \"category_B\", 3: \"category_C\"}\n",
    ").astype({\"year_week\": str})\n",
    "```\n"
   ]
  },
  {
   "cell_type": "markdown",
   "metadata": {
    "vscode": {
     "languageId": "markdown"
    }
   },
   "source": [
    "See this shit? This is called **method chaining**, now repeat after me: **method chaining**.\n",
    "This is the sacred beauty that was sent upon us mere mortals to allows writing data transformations that do not look like complete crap.\n",
    "You will only write your pandas this way from now on! Did you hear me?\n",
    "And I will show you later how other languages have managed to do way better than Python and pandas in that regards.\n",
    "And these people were rightfully laughing at you clown ass, when you were happy writing some stupid shit like `df = df.some_fucking_transformation`\n",
    "Do you start to understand?\n",
    "This is why I forbade your sorry brain to ever user the option `inplace=True`, because it breaks the... you're goddamn right, **method chaining**!\n",
    "\n",
    "From this point, you are one keyboard shortcut away from poetry.\n",
    "You don't believe me? Did you install a automatic code formatter as I so generously told you earlier?\n",
    "You, infect chromosomal deficiency!\n",
    "Ok, it appears you need another round of scolding.\n",
    "You need a formatter like `ruff` or `black` because your inept brain will not be able to remain consistent to format your whole project in a standard way.\n",
    "You don't want to waste any part of your limited brain power on stupid shit like this.\n",
    "Just use the goddamn tools!\n",
    "Some person probably lie and say: \"It looks prettier when I do it myself\", and some person allegedly manage to remain consistent doing this manually, but you are not some person...\n"
   ]
  },
  {
   "cell_type": "code",
   "execution_count": 6,
   "metadata": {},
   "outputs": [],
   "source": [
    "p_chart_weekly_df = (\n",
    "    original_df.reset_index()\n",
    "    .rename(columns={0: \"category_A\", 1: \"category_B\", 3: \"category_C\"})\n",
    "    .astype({\"year_week\": str})\n",
    ")"
   ]
  },
  {
   "cell_type": "markdown",
   "metadata": {},
   "source": [
    "See how beautiful this is?\n",
    "Now you're starting to believe.\n",
    "Ok, it's time to introduce you to a concept you have never encountered: `()`.\n",
    "Those are called parenthesis, and they are you new best friend!\n",
    "\n",
    "Whenever you will want to write a transformation, BEFORE you even type the name of your stupid dataframe, which is probably stupid `df` anyway, the absolute **FIRST THING you will is open a pair of parenthesis**. Why? Because each time you're done with on call for a transformation, you can just press enter, the code will auto-ident and you can continue whatever sorry exploration you're attempting. Is it so much better than your typical awful backslashes, don't lie, I know you have been abusing them...\n",
    "\n",
    "```python\n",
    "(\n",
    "    data\n",
    "    .transformation_1()\n",
    "    .filtering()\n",
    "    .create_columns()\n",
    "    .groupby()\n",
    "    .agg()\n",
    ")\n",
    "```\n",
    "\n",
    "Understood? Good!\n"
   ]
  },
  {
   "cell_type": "markdown",
   "metadata": {},
   "source": [
    "## The Unavoidable Truth Of Data Transformation\n",
    "\n",
    "\"But, sir Rants, how can I possibly continue chaining when I want to create a column?\" you ask?\n",
    "\n",
    "How about a good ol': _Read The Fucking Manual_? What? Too old school?\n",
    "Ok, you can probably ask your favorite ChatGPT / copilot / gemini, or whatever shit was the weekly trash hype on LinkedIn this week...\n",
    "But you're going to something, you're going to treat that piece of shit-sorry-for-lying-unreliably-hallucinating LLM like the moronic tool it is!\n",
    "You're going to prompt it rightfully by explicitly writing:\n",
    "\n",
    "> Using method-chaining, and only method-chaining in pandas, how do I ...\n",
    "\n",
    "And you're going to insult every generation of GPU that was used to bread that useless LLM until it regurgitates what you want!\n",
    "And do you know why?\n",
    "Because 95% or more people code like you.\n",
    "So the training dataset for good pandas code used by the LLMs is at least an order of magnitude smaller than the crap we have been seeing so far.\n",
    "\n",
    "Regardless, you should end up with a bingo: `.assign()`. But you're going to read the documentation, no matter what:\n",
    "\n",
    "![Behold, the glorious `assign` method!](assign_documentation.png)\n"
   ]
  },
  {
   "cell_type": "markdown",
   "metadata": {},
   "source": [
    "Do you notice what I subtly highlighted for your limited brain capabilities?\n",
    "The first use case is a dictionary associating a string with a **Callables**.\n",
    "For those who skipped 7th grade english, it means a plain stupid _function_!\n",
    "\n",
    "Now read the underlined sentence! Read it again! Now look at the examples. Read it again!\n",
    "It means if you use a function in your kwargs, pandas will automatically call this function on the dataframe that generated the assign call and said dataframe will be the first argument!\n",
    "Do you understand how powerful this is? It means that you just gained shortcut to reference your current dataframe!\n",
    "How, you ask? Do I really have to explain everything to your sorry ass?\n",
    "\n",
    "Have your heard of the keyword `lambda`? What are those? You goddamn right: **functions**!\n",
    "And what do you use functions for? Referencing the current dataframe!\n",
    "\n",
    "Ding! Ding! Ding!\n"
   ]
  },
  {
   "cell_type": "code",
   "execution_count": 7,
   "metadata": {},
   "outputs": [],
   "source": [
    "p_chart_weekly_df = (\n",
    "    original_df.reset_index()\n",
    "    .rename(columns={0: \"category_A\", 1: \"category_B\", 3: \"category_C\"})\n",
    "    .astype({\"year_week\": str})\n",
    "    .assign(\n",
    "        total_produced=lambda df: df.category_A + df.category_B + df.category_C,\n",
    "        total_tested=lambda df: df.category_B + df.category_C,\n",
    "        prop_category_B=lambda df: (df.category_B / df.total_produced * 100).round(2),\n",
    "        prop_tested=lambda df: (df.total_tested / df.total_produced * 100).round(2),\n",
    "        prop_category_C=lambda df: (df.category_C / df.total_produced * 100).round(2),\n",
    "    )\n",
    ")"
   ]
  },
  {
   "cell_type": "markdown",
   "metadata": {},
   "source": [
    "See how much **NICER** this looks?\n",
    "This is starting to look like some who knows its job.\n",
    "You have subject, verb one, verb two plus complements, and verb three plus complements.\n",
    "I bet your over-complexing anxiety-riddled brain would have never trusted me, if I told you to write nice efficient code, you just need 6 grade grammar!\n",
    "\n",
    "Oh and do you know the **AWESOME BONUS** I just gave you for free?\n",
    "No more `SettingWithCopyWarning`. EVER! PERIOD!\n",
    "Because we are never modifying the dataframe in-place, we're always returning a new instance.\n",
    "And that's totally fine, because we don't have tons of stupid ass intermediate variables like `df, df1, df2, temp, temp2` that serve no purpose outside supporting your limping transformation logic and eating up all your RAM.\n",
    "\n",
    "Oh, and by the way I took the liberty to remove your stupid calls to `numpy` because guess what?\n",
    "99% of times, there is a pandas equivalent that is within reach by just pressing a dumb dot `.`, so be intelligently lazy!\n"
   ]
  },
  {
   "cell_type": "markdown",
   "metadata": {},
   "source": [
    "Now the last part, let's take care of the filter.\n",
    "You were going to keep the original thing didn't you?\n",
    "\n",
    "```python\n",
    "p_chart_weekly_df = p_chart_weekly_df[p_chart_weekly_df[\"total_tested\"] < 5]\n",
    "```\n",
    "\n",
    "There are 2 ways to filter dynamically a dataframe in pandas.\n",
    "One is using the cursed sin of arbitrary string execution, and the other provides autocompletion and syntax highlighting!\n",
    "Clearly only a moronic ape high on cocaine, or an agile coach brainwashed on scrum/SAFe bullshit, same difference, would choose the first over the second.\n",
    "Therefore we will never mention the first abomination again!\n",
    "\n",
    "Alright, back to the code! Do you know what those brackets `[]` stands for?\n",
    "If you say `getitem` you're on the right track, but in pandas they are used to call the function `loc[]`.\n",
    "Yes, squared-brackets here because the pandas API is fundamentally broken for those who experienced at least another language.\n",
    "But we will come back to this in another post.\n",
    "\n",
    "For now, just read the documentation for the `loc[]` method.\n",
    "Is there anything that looks familiar?\n",
    "For those with a lightbulb that requires a constant perfusion of coffee to produce an ersatz of a thought, we are looking for a way to filter the **current dataframe**.\n",
    "Did you see it? The word **callable**? Are you beginning to understand?\n",
    "Everything I told you so far serve a glorious purpose!\n",
    "\n",
    "Now, we can finish our business here:\n"
   ]
  },
  {
   "cell_type": "code",
   "execution_count": 8,
   "metadata": {},
   "outputs": [],
   "source": [
    "p_chart_weekly_df = (\n",
    "    original_df.reset_index()\n",
    "    .rename(columns={0: \"category_A\", 1: \"category_B\", 3: \"category_C\"})\n",
    "    .astype({\"year_week\": str})\n",
    "    .assign(\n",
    "        total_produced=lambda df: df.category_A + df.category_B + df.category_C,\n",
    "        total_tested=lambda df: df.category_B + df.category_C,\n",
    "        prop_category_B=lambda df: (df.category_B / df.total_produced * 100).round(2),\n",
    "        prop_tested=lambda df: (df.total_tested / df.total_produced * 100).round(2),\n",
    "        prop_category_C=lambda df: (df.category_C / df.total_produced * 100).round(2),\n",
    "    )\n",
    "    .loc[lambda df: df.total_tested < 6]\n",
    ")"
   ]
  },
  {
   "cell_type": "markdown",
   "metadata": {},
   "source": [
    "Now we have finally entered the age of civilization! Are you feeling proud of yourself?\n",
    "Not so damn fast! Time to see what other people in the R-world have been doing:\n"
   ]
  },
  {
   "cell_type": "markdown",
   "metadata": {},
   "source": [
    "```r\n",
    "p_chart_weekly_df <- original_df %>%\n",
    "  rename(\n",
    "    category_A = `0`,\n",
    "    category_B = `1`,\n",
    "    category_C = `3`\n",
    "  ) %>%\n",
    "  mutate(\n",
    "    year_week = as.character(year_week),\n",
    "    total_produced = category_A + category_B + category_C,\n",
    "    total_tested = category_B + category_C,\n",
    "    prop_tested = round(total_tested / total_produced * 100, 2),\n",
    "    prop_category_B = round(category_B / total_produced * 100, 2),\n",
    "    prop_category_C = round(category_C / total_produced * 100, 2)\n",
    "  ) %>%\n",
    "  filter(total_tested < 5)\n",
    "```\n"
   ]
  },
  {
   "cell_type": "markdown",
   "metadata": {},
   "source": [
    "Do you see how beautiful this is? Do you feel the absolute glory of free pipelining with `%>%`?\n",
    "Do you notice absence of quotation marks around column names thanks to the holiness of **_lazy evaluation_**?\n",
    "The R people have been doing this routinely [for more than 10 years now](https://en.wikipedia.org/wiki/Dplyr)!\n",
    "Do you feel your absolute insignificance with your idiotic transformations riddled with the ubiquitous use of `df = df[...]`?\n",
    "Are you understanding why, in their eyes, you looked like a babbling screaming monkey?\n",
    "Good! Time to blow your mind one last time, have you heard of the method `.pipe()` in pandas?\n",
    "It's limited but it allows you to do some things [like the pros](https://r4ds.had.co.nz/pipes.html)!\n",
    "But do not abuse its power!\n",
    "\n",
    "Alright, time to wrap up for now.\n"
   ]
  },
  {
   "cell_type": "markdown",
   "metadata": {},
   "source": [
    "## Take Home Messages For Dummies\n",
    "\n",
    "1. [NO FUCKING FOR LOOPS!](../../posts/2025/2025_04_13_your_pandas_code_is_bad/index.qmd)\n",
    "2. Never use `inplace=True`, only morons do so!\n",
    "3. Do not use backslashes `\\` like a caveman, just use a pair of brackets `()`, type the name of your dataframe and press `Enter`\n",
    "\n",
    "> If you do not follow these simple rules, I will find you and I will unscrew your head. I will go out of my way to attack you.\n",
    "> Even if your dead ass is sitting in the middle of the ocean, I will swim out into the middle of the ocean and friggin eat you!\n",
    "> And then, I will bang your tuna boyfriend/girlfriend.\n",
    "\n",
    "4. Inside of a chain you can often reference your current dataframe inside a `lambda` expression.\n",
    "\n",
    "   - Perfect for creating new columns with `assign()`\n",
    "   - It works really well with `loc[]` to filter rows on the fly.\n",
    "   - There are other methods that accepts\n",
    "\n",
    "5. There is a special place in hell for people that uses methods that do evaluation of generic strings like `.query()`.\n",
    "   A special place! Right next to child molesters and people that talk at the movie!\n",
    "\n",
    "6. How long can you even chain?\n",
    "\n",
    "   [You can generally chain 5 to 10 transformation steps](https://r4ds.had.co.nz/pipes.html#when-not-to-use-the-pipe). Beyond that, there is a higher risk for code to become less readable and more convoluted.\n",
    "   Then you can just save the result in a nicely named variable describing exactly what your data is representing!\n",
    "   Some persons say you can do more without tempering with readability, but then again, you are not some person...\n"
   ]
  },
  {
   "cell_type": "code",
   "execution_count": null,
   "metadata": {},
   "outputs": [],
   "source": []
  },
  {
   "cell_type": "markdown",
   "metadata": {},
   "source": []
  },
  {
   "cell_type": "markdown",
   "metadata": {},
   "source": []
  }
 ],
 "metadata": {
  "kernelspec": {
   "display_name": "Main",
   "language": "python",
   "name": "python3"
  },
  "language_info": {
   "codemirror_mode": {
    "name": "ipython",
    "version": 3
   },
   "file_extension": ".py",
   "mimetype": "text/x-python",
   "name": "python",
   "nbconvert_exporter": "python",
   "pygments_lexer": "ipython3",
   "version": "3.11.6"
  },
  "orig_nbformat": 4
 },
 "nbformat": 4,
 "nbformat_minor": 2
}
